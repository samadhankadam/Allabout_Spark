{
  "nbformat": 4,
  "nbformat_minor": 0,
  "metadata": {
    "colab": {
      "name": "Testing pydeeq8/8.ipynb",
      "provenance": [],
      "collapsed_sections": [],
      "toc_visible": true,
      "authorship_tag": "ABX9TyP6ArQsr6Fs4E6Y8NI9y08y",
      "include_colab_link": true
    },
    "kernelspec": {
      "name": "python3",
      "display_name": "Python 3"
    },
    "language_info": {
      "name": "python"
    }
  },
  "cells": [
    {
      "cell_type": "markdown",
      "metadata": {
        "id": "view-in-github",
        "colab_type": "text"
      },
      "source": [
        "<a href=\"https://colab.research.google.com/github/samadhankadam/Allabout_Spark/blob/main/Testing_pydeeq8_8.ipynb\" target=\"_parent\"><img src=\"https://colab.research.google.com/assets/colab-badge.svg\" alt=\"Open In Colab\"/></a>"
      ]
    },
    {
      "cell_type": "code",
      "execution_count": 1,
      "metadata": {
        "colab": {
          "base_uri": "https://localhost:8080/"
        },
        "id": "fDYygAq-Ox3i",
        "outputId": "ac17d36a-8937-4a79-b181-dd44a43e280d"
      },
      "outputs": [
        {
          "output_type": "stream",
          "name": "stdout",
          "text": [
            "\r0% [Working]\r            \rGet:1 https://cloud.r-project.org/bin/linux/ubuntu bionic-cran40/ InRelease [3,626 B]\n",
            "\r0% [Connecting to archive.ubuntu.com (185.125.190.36)] [Connecting to security.\r0% [Connecting to archive.ubuntu.com (185.125.190.36)] [Connecting to security.\r0% [1 InRelease gpgv 3,626 B] [Connecting to archive.ubuntu.com (185.125.190.36\r                                                                               \rIgn:2 https://developer.download.nvidia.com/compute/machine-learning/repos/ubuntu1804/x86_64  InRelease\n",
            "Get:3 https://developer.download.nvidia.com/compute/cuda/repos/ubuntu1804/x86_64  InRelease [1,581 B]\n",
            "Hit:4 https://developer.download.nvidia.com/compute/machine-learning/repos/ubuntu1804/x86_64  Release\n",
            "Get:5 http://security.ubuntu.com/ubuntu bionic-security InRelease [88.7 kB]\n",
            "Hit:6 http://archive.ubuntu.com/ubuntu bionic InRelease\n",
            "Get:7 http://ppa.launchpad.net/c2d4u.team/c2d4u4.0+/ubuntu bionic InRelease [15.9 kB]\n",
            "Get:8 http://archive.ubuntu.com/ubuntu bionic-updates InRelease [88.7 kB]\n",
            "Get:9 https://developer.download.nvidia.com/compute/cuda/repos/ubuntu1804/x86_64  Packages [902 kB]\n",
            "Hit:10 http://ppa.launchpad.net/cran/libgit2/ubuntu bionic InRelease\n",
            "Get:11 http://archive.ubuntu.com/ubuntu bionic-backports InRelease [74.6 kB]\n",
            "Hit:12 http://ppa.launchpad.net/deadsnakes/ppa/ubuntu bionic InRelease\n",
            "Hit:14 http://ppa.launchpad.net/graphics-drivers/ppa/ubuntu bionic InRelease\n",
            "Get:15 http://ppa.launchpad.net/c2d4u.team/c2d4u4.0+/ubuntu bionic/main Sources [2,077 kB]\n",
            "Get:16 http://security.ubuntu.com/ubuntu bionic-security/main amd64 Packages [2,905 kB]\n",
            "Get:17 http://archive.ubuntu.com/ubuntu bionic-updates/main amd64 Packages [3,336 kB]\n",
            "Get:18 http://security.ubuntu.com/ubuntu bionic-security/universe amd64 Packages [1,528 kB]\n",
            "Get:19 http://ppa.launchpad.net/c2d4u.team/c2d4u4.0+/ubuntu bionic/main amd64 Packages [1,064 kB]\n",
            "Get:20 http://archive.ubuntu.com/ubuntu bionic-updates/universe amd64 Packages [2,306 kB]\n",
            "Fetched 14.4 MB in 4s (3,662 kB/s)\n",
            "Reading package lists... Done\n"
          ]
        }
      ],
      "source": [
        "!apt-get update"
      ]
    },
    {
      "cell_type": "code",
      "source": [
        "# Installing Java\n",
        "!apt-get install -y openjdk-8-jdk-headless -qq > /dev/null\n",
        "!update-alternatives --set java /usr/lib/jvm/java-8-openjdk-amd64/jre/bin/java\n",
        "!java -version"
      ],
      "metadata": {
        "colab": {
          "base_uri": "https://localhost:8080/"
        },
        "id": "zAL9ArLfO4RB",
        "outputId": "9015da64-c273-4969-8d08-e7a968c45d57"
      },
      "execution_count": 2,
      "outputs": [
        {
          "output_type": "stream",
          "name": "stdout",
          "text": [
            "update-alternatives: using /usr/lib/jvm/java-8-openjdk-amd64/jre/bin/java to provide /usr/bin/java (java) in manual mode\n",
            "openjdk version \"1.8.0_342\"\n",
            "OpenJDK Runtime Environment (build 1.8.0_342-8u342-b07-0ubuntu1~18.04-b07)\n",
            "OpenJDK 64-Bit Server VM (build 25.342-b07, mixed mode)\n"
          ]
        }
      ]
    },
    {
      "cell_type": "code",
      "source": [
        "# Getting Hadoop version \n",
        "# page with version: https://archive.apache.org/dist/spark/spark-2.4.7/\n",
        "!wget  https://archive.apache.org/dist/spark/spark-2.4.0/spark-2.4.0-bin-hadoop2.7.tgz"
      ],
      "metadata": {
        "colab": {
          "base_uri": "https://localhost:8080/"
        },
        "id": "knr9deGGPC9p",
        "outputId": "713b894a-e110-4b62-de6d-13ac7b248cc6"
      },
      "execution_count": 3,
      "outputs": [
        {
          "output_type": "stream",
          "name": "stdout",
          "text": [
            "--2022-08-08 16:14:12--  https://archive.apache.org/dist/spark/spark-2.4.0/spark-2.4.0-bin-hadoop2.7.tgz\n",
            "Resolving archive.apache.org (archive.apache.org)... 138.201.131.134, 2a01:4f8:172:2ec5::2\n",
            "Connecting to archive.apache.org (archive.apache.org)|138.201.131.134|:443... connected.\n",
            "HTTP request sent, awaiting response... 200 OK\n",
            "Length: 227893062 (217M) [application/x-gzip]\n",
            "Saving to: ‘spark-2.4.0-bin-hadoop2.7.tgz’\n",
            "\n",
            "spark-2.4.0-bin-had 100%[===================>] 217.33M  19.5MB/s    in 12s     \n",
            "\n",
            "2022-08-08 16:14:25 (17.6 MB/s) - ‘spark-2.4.0-bin-hadoop2.7.tgz’ saved [227893062/227893062]\n",
            "\n"
          ]
        }
      ]
    },
    {
      "cell_type": "code",
      "source": [
        "!tar xf spark-2.4.0-bin-hadoop2.7.tgz\n",
        "!pip install -q findspark"
      ],
      "metadata": {
        "id": "svLAhcNOPE4q"
      },
      "execution_count": 4,
      "outputs": []
    },
    {
      "cell_type": "code",
      "source": [
        "# Setting env variables\n",
        "import os\n",
        "os.environ[\"JAVA_HOME\"] = \"/usr/lib/jvm/java-8-openjdk-amd64\"\n",
        "os.environ[\"SPARK_HOME\"] = \"/content/spark-2.4.0-bin-hadoop2.7\"\n",
        "os.environ[\"SPARK_VERSION\"] = \"2.4.0\""
      ],
      "metadata": {
        "id": "TQcm_bWbPQVb"
      },
      "execution_count": 5,
      "outputs": []
    },
    {
      "cell_type": "code",
      "source": [
        "import findspark\n",
        "findspark.init()"
      ],
      "metadata": {
        "id": "aW3obHCuPUlZ"
      },
      "execution_count": 6,
      "outputs": []
    },
    {
      "cell_type": "code",
      "source": [
        "import json"
      ],
      "metadata": {
        "id": "cscQn4y3PZQv"
      },
      "execution_count": 7,
      "outputs": []
    },
    {
      "cell_type": "code",
      "source": [
        "# Install PyDeequ\n",
        "!pip install pydeequ"
      ],
      "metadata": {
        "colab": {
          "base_uri": "https://localhost:8080/"
        },
        "id": "uHyP_o0hPgZo",
        "outputId": "d0e8917a-4659-4130-d388-d4a678ca9185"
      },
      "execution_count": 8,
      "outputs": [
        {
          "output_type": "stream",
          "name": "stdout",
          "text": [
            "Looking in indexes: https://pypi.org/simple, https://us-python.pkg.dev/colab-wheels/public/simple/\n",
            "Collecting pydeequ\n",
            "  Downloading pydeequ-1.0.1-py3-none-any.whl (36 kB)\n",
            "Requirement already satisfied: pandas>=0.23.0 in /usr/local/lib/python3.7/dist-packages (from pydeequ) (1.3.5)\n",
            "Requirement already satisfied: numpy>=1.14.1 in /usr/local/lib/python3.7/dist-packages (from pydeequ) (1.21.6)\n",
            "Requirement already satisfied: python-dateutil>=2.7.3 in /usr/local/lib/python3.7/dist-packages (from pandas>=0.23.0->pydeequ) (2.8.2)\n",
            "Requirement already satisfied: pytz>=2017.3 in /usr/local/lib/python3.7/dist-packages (from pandas>=0.23.0->pydeequ) (2022.1)\n",
            "Requirement already satisfied: six>=1.5 in /usr/local/lib/python3.7/dist-packages (from python-dateutil>=2.7.3->pandas>=0.23.0->pydeequ) (1.15.0)\n",
            "Installing collected packages: pydeequ\n",
            "Successfully installed pydeequ-1.0.1\n"
          ]
        }
      ]
    },
    {
      "cell_type": "code",
      "source": [
        "# importing Spark and pydeequ\n",
        "from pyspark.sql import SparkSession, Row\n",
        "import pydeequ"
      ],
      "metadata": {
        "id": "svOkpq_ZPi-v"
      },
      "execution_count": 9,
      "outputs": []
    },
    {
      "cell_type": "code",
      "source": [
        "# creating Spark session\n",
        "spark = SparkSession.builder .master(\"local\").appName(\"Colab\").config('spark.ui.port', '4050').config(\"spark.jars.packages\", pydeequ.deequ_maven_coord).config(\"spark.jars.excludes\", pydeequ.f2j_maven_coord).getOrCreate()\n",
        "conf = spark.sparkContext._conf.setAll([('spark.executor.memory', '8g'), ('spark.driver.memory','8g')])"
      ],
      "metadata": {
        "id": "TceAD3YNPoVS"
      },
      "execution_count": 10,
      "outputs": []
    },
    {
      "cell_type": "code",
      "source": [
        "spark"
      ],
      "metadata": {
        "colab": {
          "base_uri": "https://localhost:8080/",
          "height": 221
        },
        "id": "tlNlE0-iPv7Y",
        "outputId": "8ed68fb8-2f10-4249-ea76-c2ae2ca60999"
      },
      "execution_count": 11,
      "outputs": [
        {
          "output_type": "execute_result",
          "data": {
            "text/plain": [
              "<pyspark.sql.session.SparkSession at 0x7f0882458310>"
            ],
            "text/html": [
              "\n",
              "            <div>\n",
              "                <p><b>SparkSession - in-memory</b></p>\n",
              "                \n",
              "        <div>\n",
              "            <p><b>SparkContext</b></p>\n",
              "\n",
              "            <p><a href=\"http://04e288155624:4050\">Spark UI</a></p>\n",
              "\n",
              "            <dl>\n",
              "              <dt>Version</dt>\n",
              "                <dd><code>v2.4.0</code></dd>\n",
              "              <dt>Master</dt>\n",
              "                <dd><code>local</code></dd>\n",
              "              <dt>AppName</dt>\n",
              "                <dd><code>Colab</code></dd>\n",
              "            </dl>\n",
              "        </div>\n",
              "        \n",
              "            </div>\n",
              "        "
            ]
          },
          "metadata": {},
          "execution_count": 11
        }
      ]
    },
    {
      "cell_type": "code",
      "source": [
        "df = spark.sparkContext.parallelize([\n",
        "Row(a=\"foo\", b=1, c=5),\n",
        "Row(a=\"bar\", b=2, c=6),\n",
        "Row(a=\"baz\", b=3, c=None)]).toDF()"
      ],
      "metadata": {
        "id": "9kTV0XloP1FL"
      },
      "execution_count": 12,
      "outputs": []
    },
    {
      "cell_type": "code",
      "source": [
        "from pydeequ.analyzers import *\n",
        "from pydeequ.profiles import *\n",
        "from pydeequ.suggestions import *\n",
        "from pydeequ.checks import *\n",
        "from pydeequ.verification import *\n",
        "from pydeequ.repository import *"
      ],
      "metadata": {
        "id": "3J6QDiqNP9W-"
      },
      "execution_count": 13,
      "outputs": []
    },
    {
      "cell_type": "code",
      "source": [
        "analysisResult = AnalysisRunner(spark) \\\n",
        "                    .onData(df) \\\n",
        "                    .addAnalyzer(Size()) \\\n",
        "                    .addAnalyzer(Completeness(\"b\")) \\\n",
        "                    .run()"
      ],
      "metadata": {
        "id": "kvN48cW2QDUO"
      },
      "execution_count": 14,
      "outputs": []
    },
    {
      "cell_type": "code",
      "source": [
        "analysisResult_df = AnalyzerContext.successMetricsAsDataFrame(spark, analysisResult)\n",
        "analysisResult_df.show()"
      ],
      "metadata": {
        "colab": {
          "base_uri": "https://localhost:8080/"
        },
        "id": "97pO5BpcQMUZ",
        "outputId": "86f01742-efb4-487b-ce23-3dc4ef2a81e9"
      },
      "execution_count": 15,
      "outputs": [
        {
          "output_type": "stream",
          "name": "stdout",
          "text": [
            "+-------+--------+------------+-----+\n",
            "| entity|instance|        name|value|\n",
            "+-------+--------+------------+-----+\n",
            "|Dataset|       *|        Size|  3.0|\n",
            "| Column|       b|Completeness|  1.0|\n",
            "+-------+--------+------------+-----+\n",
            "\n"
          ]
        }
      ]
    },
    {
      "cell_type": "code",
      "source": [
        "result = ColumnProfilerRunner(spark) \\\n",
        "    .onData(df) \\\n",
        "    .run()\n",
        "\n",
        "for col, profile in result.profiles.items():\n",
        "    print(profile)"
      ],
      "metadata": {
        "colab": {
          "base_uri": "https://localhost:8080/"
        },
        "id": "nr2fKS0JQNvH",
        "outputId": "e6f0eb72-4f24-4f72-d40a-ec3dbcaef67e"
      },
      "execution_count": 16,
      "outputs": [
        {
          "output_type": "stream",
          "name": "stdout",
          "text": [
            "StandardProfiles for column: a: {\n",
            "    \"completeness\": 1.0,\n",
            "    \"approximateNumDistinctValues\": 3,\n",
            "    \"dataType\": \"String\",\n",
            "    \"isDataTypeInferred\": false,\n",
            "    \"typeCounts\": {\n",
            "        \"Boolean\": 0,\n",
            "        \"Fractional\": 0,\n",
            "        \"Integral\": 0,\n",
            "        \"Unknown\": 0,\n",
            "        \"String\": 3\n",
            "    },\n",
            "    \"histogram\": [\n",
            "        [\n",
            "            \"baz\",\n",
            "            1,\n",
            "            0.3333333333333333\n",
            "        ],\n",
            "        [\n",
            "            \"foo\",\n",
            "            1,\n",
            "            0.3333333333333333\n",
            "        ],\n",
            "        [\n",
            "            \"bar\",\n",
            "            1,\n",
            "            0.3333333333333333\n",
            "        ]\n",
            "    ]\n",
            "}\n",
            "NumericProfiles for column: b: {\n",
            "    \"completeness\": 1.0,\n",
            "    \"approximateNumDistinctValues\": 3,\n",
            "    \"dataType\": \"Integral\",\n",
            "    \"isDataTypeInferred\": false,\n",
            "    \"typeCounts\": {},\n",
            "    \"histogram\": [\n",
            "        [\n",
            "            \"1\",\n",
            "            1,\n",
            "            0.3333333333333333\n",
            "        ],\n",
            "        [\n",
            "            \"2\",\n",
            "            1,\n",
            "            0.3333333333333333\n",
            "        ],\n",
            "        [\n",
            "            \"3\",\n",
            "            1,\n",
            "            0.3333333333333333\n",
            "        ]\n",
            "    ],\n",
            "    \"kll\": \"None\",\n",
            "    \"mean\": 2.0,\n",
            "    \"maximum\": 3.0,\n",
            "    \"minimum\": 1.0,\n",
            "    \"sum\": 6.0,\n",
            "    \"stdDev\": 0.816496580927726,\n",
            "    \"approxPercentiles\": []\n",
            "}\n",
            "NumericProfiles for column: c: {\n",
            "    \"completeness\": 0.6666666666666666,\n",
            "    \"approximateNumDistinctValues\": 2,\n",
            "    \"dataType\": \"Integral\",\n",
            "    \"isDataTypeInferred\": false,\n",
            "    \"typeCounts\": {},\n",
            "    \"histogram\": [\n",
            "        [\n",
            "            \"5\",\n",
            "            1,\n",
            "            0.3333333333333333\n",
            "        ],\n",
            "        [\n",
            "            \"NullValue\",\n",
            "            1,\n",
            "            0.3333333333333333\n",
            "        ],\n",
            "        [\n",
            "            \"6\",\n",
            "            1,\n",
            "            0.3333333333333333\n",
            "        ]\n",
            "    ],\n",
            "    \"kll\": \"None\",\n",
            "    \"mean\": 5.5,\n",
            "    \"maximum\": 6.0,\n",
            "    \"minimum\": 5.0,\n",
            "    \"sum\": 11.0,\n",
            "    \"stdDev\": 0.5,\n",
            "    \"approxPercentiles\": []\n",
            "}\n"
          ]
        }
      ]
    },
    {
      "cell_type": "code",
      "source": [
        "# Constraint Suggestions in JSON format\n",
        "print(json.dumps(suggestionResult[\"constraint_suggestions\"], indent=2))"
      ],
      "metadata": {
        "colab": {
          "base_uri": "https://localhost:8080/",
          "height": 187
        },
        "id": "lCfbqfoYQXso",
        "outputId": "f55aea19-1b4c-451a-8b54-54c0dbde8903"
      },
      "execution_count": 17,
      "outputs": [
        {
          "output_type": "error",
          "ename": "NameError",
          "evalue": "ignored",
          "traceback": [
            "\u001b[0;31m---------------------------------------------------------------------------\u001b[0m",
            "\u001b[0;31mNameError\u001b[0m                                 Traceback (most recent call last)",
            "\u001b[0;32m<ipython-input-17-a1d73dad231c>\u001b[0m in \u001b[0;36m<module>\u001b[0;34m()\u001b[0m\n\u001b[1;32m      1\u001b[0m \u001b[0;31m# Constraint Suggestions in JSON format\u001b[0m\u001b[0;34m\u001b[0m\u001b[0;34m\u001b[0m\u001b[0;34m\u001b[0m\u001b[0m\n\u001b[0;32m----> 2\u001b[0;31m \u001b[0mprint\u001b[0m\u001b[0;34m(\u001b[0m\u001b[0mjson\u001b[0m\u001b[0;34m.\u001b[0m\u001b[0mdumps\u001b[0m\u001b[0;34m(\u001b[0m\u001b[0msuggestionResult\u001b[0m\u001b[0;34m[\u001b[0m\u001b[0;34m\"constraint_suggestions\"\u001b[0m\u001b[0;34m]\u001b[0m\u001b[0;34m,\u001b[0m \u001b[0mindent\u001b[0m\u001b[0;34m=\u001b[0m\u001b[0;36m2\u001b[0m\u001b[0;34m)\u001b[0m\u001b[0;34m)\u001b[0m\u001b[0;34m\u001b[0m\u001b[0;34m\u001b[0m\u001b[0m\n\u001b[0m",
            "\u001b[0;31mNameError\u001b[0m: name 'suggestionResult' is not defined"
          ]
        }
      ]
    },
    {
      "cell_type": "code",
      "source": [
        "check = Check(spark, CheckLevel.Warning, \"Review Check\")\n",
        "\n",
        "checkResult = VerificationSuite(spark) \\\n",
        "    .onData(df) \\\n",
        "    .addCheck(\n",
        "        check.hasSize(lambda x: x >= 3) \\\n",
        "        .hasMin(\"b\", lambda x: x == 0) \\\n",
        "        .isComplete(\"c\")  \\\n",
        "        .isUnique(\"a\")  \\\n",
        "        .isContainedIn(\"a\", [\"foo\", \"bar\", \"baz\"]) \\\n",
        "        .isNonNegative(\"b\")) \\\n",
        "    .run()\n",
        "\n",
        "checkResult_df = VerificationResult.checkResultsAsDataFrame(spark, checkResult)\n",
        "checkResult_df.show()"
      ],
      "metadata": {
        "colab": {
          "base_uri": "https://localhost:8080/"
        },
        "id": "vsJkFv0IQlWH",
        "outputId": "008b41f3-e082-40f1-a2c1-761e23769008"
      },
      "execution_count": 18,
      "outputs": [
        {
          "output_type": "stream",
          "name": "stdout",
          "text": [
            "Python Callback server started!\n",
            "+------------+-----------+------------+--------------------+-----------------+--------------------+\n",
            "|       check|check_level|check_status|          constraint|constraint_status|  constraint_message|\n",
            "+------------+-----------+------------+--------------------+-----------------+--------------------+\n",
            "|Review Check|    Warning|     Warning|SizeConstraint(Si...|          Success|                    |\n",
            "|Review Check|    Warning|     Warning|MinimumConstraint...|          Failure|Value: 1.0 does n...|\n",
            "|Review Check|    Warning|     Warning|CompletenessConst...|          Failure|Value: 0.66666666...|\n",
            "|Review Check|    Warning|     Warning|UniquenessConstra...|          Success|                    |\n",
            "|Review Check|    Warning|     Warning|ComplianceConstra...|          Success|                    |\n",
            "|Review Check|    Warning|     Warning|ComplianceConstra...|          Success|                    |\n",
            "+------------+-----------+------------+--------------------+-----------------+--------------------+\n",
            "\n"
          ]
        }
      ]
    },
    {
      "cell_type": "code",
      "source": [
        "metrics_file = FileSystemMetricsRepository.helper_metrics_file(spark, 'metrics.json')\n",
        "repository = FileSystemMetricsRepository(spark, metrics_file)\n",
        "key_tags = {'tag': 'pydeequ hello world'}\n",
        "resultKey = ResultKey(spark, ResultKey.current_milli_time(), key_tags)\n",
        "\n",
        "analysisResult = AnalysisRunner(spark) \\\n",
        "    .onData(df) \\\n",
        "    .addAnalyzer(ApproxCountDistinct('b')) \\\n",
        "    .useRepository(repository) \\\n",
        "    .saveOrAppendResult(resultKey) \\\n",
        "    .run()"
      ],
      "metadata": {
        "id": "UWw4bNOYQtl0"
      },
      "execution_count": 19,
      "outputs": []
    },
    {
      "cell_type": "code",
      "source": [
        "result_metrep_df = repository.load() \\\n",
        "    .before(ResultKey.current_milli_time()) \\\n",
        "    .forAnalyzers([ApproxCountDistinct('b')]) \\\n",
        "    .getSuccessMetricsAsDataFrame()"
      ],
      "metadata": {
        "id": "_BbJJy19QvXM"
      },
      "execution_count": 20,
      "outputs": []
    },
    {
      "cell_type": "code",
      "source": [
        "result_metrep_df.show()"
      ],
      "metadata": {
        "colab": {
          "base_uri": "https://localhost:8080/"
        },
        "id": "FgkA6XTLQ2sW",
        "outputId": "dfe473c7-d013-4a89-c9f2-fd69bc1b828a"
      },
      "execution_count": 21,
      "outputs": [
        {
          "output_type": "stream",
          "name": "stdout",
          "text": [
            "+------+--------+-------------------+-----+-------------+-------------------+\n",
            "|entity|instance|               name|value| dataset_date|                tag|\n",
            "+------+--------+-------------------+-----+-------------+-------------------+\n",
            "|Column|       b|ApproxCountDistinct|  3.0|1659975690176|pydeequ hello world|\n",
            "+------+--------+-------------------+-----+-------------+-------------------+\n",
            "\n"
          ]
        }
      ]
    },
    {
      "cell_type": "code",
      "source": [
        "print (\"Hello World\")"
      ],
      "metadata": {
        "colab": {
          "base_uri": "https://localhost:8080/"
        },
        "id": "M3nRkarlRumL",
        "outputId": "0040c36e-980b-4199-fb4c-c2203dd485dd"
      },
      "execution_count": 22,
      "outputs": [
        {
          "output_type": "stream",
          "name": "stdout",
          "text": [
            "Hello World\n"
          ]
        }
      ]
    },
    {
      "cell_type": "code",
      "source": [
        "Top"
      ],
      "metadata": {
        "colab": {
          "base_uri": "https://localhost:8080/",
          "height": 169
        },
        "id": "wiN2eYmyXxtx",
        "outputId": "5b12dc0d-43c7-40eb-ed15-4fb9b2938699"
      },
      "execution_count": 23,
      "outputs": [
        {
          "output_type": "error",
          "ename": "NameError",
          "evalue": "ignored",
          "traceback": [
            "\u001b[0;31m---------------------------------------------------------------------------\u001b[0m",
            "\u001b[0;31mNameError\u001b[0m                                 Traceback (most recent call last)",
            "\u001b[0;32m<ipython-input-23-b18e5121c337>\u001b[0m in \u001b[0;36m<module>\u001b[0;34m()\u001b[0m\n\u001b[0;32m----> 1\u001b[0;31m \u001b[0mTop\u001b[0m\u001b[0;34m\u001b[0m\u001b[0;34m\u001b[0m\u001b[0m\n\u001b[0m",
            "\u001b[0;31mNameError\u001b[0m: name 'Top' is not defined"
          ]
        }
      ]
    }
  ]
}